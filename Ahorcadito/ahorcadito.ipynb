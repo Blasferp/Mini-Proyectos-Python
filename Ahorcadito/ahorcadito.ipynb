{
 "cells": [
  {
   "cell_type": "code",
   "execution_count": 284,
   "metadata": {},
   "outputs": [],
   "source": [
    "import random\n",
    "import unicodedata\n"
   ]
  },
  {
   "cell_type": "code",
   "execution_count": 285,
   "metadata": {},
   "outputs": [],
   "source": [
    "\n",
    "\n",
    "def quitar_acentos(texto):\n",
    "    \"\"\"\n",
    "    Elimina los acentos de un texto.\n",
    "\n",
    "    Parámetros:\n",
    "    texto (str): La cadena de texto de la cual se desean eliminar los acentos.\n",
    "\n",
    "    Retorna:\n",
    "    str: La cadena de texto sin acentos.\n",
    "    \"\"\"\n",
    "    # Normalizar el texto a la forma de descomposición canónica (NFD)\n",
    "    texto_normalizado = unicodedata.normalize('NFD', texto)\n",
    "    # Eliminar los caracteres acentuados (diacríticos)\n",
    "    texto_sin_acentos = ''.join(c for c in texto_normalizado if not unicodedata.combining(c))\n",
    "    return texto_sin_acentos\n",
    "\n",
    "def leer_archivo_lst(archivo):\n",
    "    \"\"\"\n",
    "    Lee un archivo .lst, elimina los acentos de las palabras y devuelve una lista de palabras.\n",
    "\n",
    "    Parámetros:\n",
    "    archivo (str): La ruta al archivo .lst que se desea leer.\n",
    "\n",
    "    Retorna:\n",
    "    list: Una lista de cadenas de texto sin acentos, donde cada cadena es una línea del archivo después de haber\n",
    "          sido limpiada de espacios en blanco.\n",
    "    \"\"\"\n",
    "    with open(archivo, 'r', encoding='utf-8') as file:\n",
    "        lines = file.readlines()\n",
    "\n",
    "    palabras = []\n",
    "\n",
    "    for line in lines:\n",
    "        # Eliminar espacios en blanco al principio y al final de la línea\n",
    "        line = line.strip()\n",
    "        # Eliminar acentos\n",
    "        line = quitar_acentos(line)\n",
    "        # Agregar la línea limpia a la lista de palabras\n",
    "        palabras.append(line)\n",
    "        \n",
    "    return palabras"
   ]
  },
  {
   "cell_type": "code",
   "execution_count": 1,
   "metadata": {},
   "outputs": [
    {
     "ename": "NameError",
     "evalue": "name 'leer_archivo_lst' is not defined",
     "output_type": "error",
     "traceback": [
      "\u001b[1;31m---------------------------------------------------------------------------\u001b[0m",
      "\u001b[1;31mNameError\u001b[0m                                 Traceback (most recent call last)",
      "Cell \u001b[1;32mIn[1], line 2\u001b[0m\n\u001b[0;32m      1\u001b[0m archivo_palabras \u001b[38;5;241m=\u001b[39m \u001b[38;5;124m'\u001b[39m\u001b[38;5;124mAhorcadito\u001b[39m\u001b[38;5;124m\\\u001b[39m\u001b[38;5;124mlistado-general-palabras.txt\u001b[39m\u001b[38;5;124m'\u001b[39m\n\u001b[1;32m----> 2\u001b[0m palabras \u001b[38;5;241m=\u001b[39m \u001b[43mleer_archivo_lst\u001b[49m(archivo_palabras)\n\u001b[0;32m      3\u001b[0m vidas \u001b[38;5;241m=\u001b[39m \u001b[38;5;241m7\u001b[39m \n\u001b[0;32m      4\u001b[0m palabra_adivinar \u001b[38;5;241m=\u001b[39m random\u001b[38;5;241m.\u001b[39mchoice(palabras)\u001b[38;5;241m.\u001b[39mlower()\n",
      "\u001b[1;31mNameError\u001b[0m: name 'leer_archivo_lst' is not defined"
     ]
    }
   ],
   "source": [
    "archivo_palabras = 'Ahorcadito\\listado-general-palabras.txt'\n",
    "palabras = leer_archivo_lst(archivo_palabras)\n",
    "vidas = 7 \n",
    "palabra_adivinar = random.choice(palabras).lower()\n",
    "Cantidad_letras = len(palabra_adivinar)\n",
    "Cantidad_guiones = '-' * Cantidad_letras\n",
    "\n",
    "print('=============================================================================\\n')\n",
    "print('             ******!!!Bienvenidos al Ahorcadito!!!********\\n')\n",
    "print('       --Intenta Adivinar entre mas de 86000 palabras en Español--')\n",
    "print('=============================================================================\\n')\n",
    "print('- Debe adivinar la palabra oculta, para esto usted posee 7 intentos para lograrlo.\\n')\n",
    "print(f'Cantidad de vidas : {vidas}\\n')\n",
    "print('¡Exitos!\\n')\n",
    "print(f'La Palabra que debes adivinar tiene \"{len(palabra_adivinar)}\" Letras.\\n')\n",
    "print(Cantidad_guiones + '\\n')\n",
    "\n"
   ]
  },
  {
   "cell_type": "code",
   "execution_count": 292,
   "metadata": {},
   "outputs": [
    {
     "name": "stdout",
     "output_type": "stream",
     "text": [
      "!!!!Excelente!!!... Continua para descifrar la palabra.\n"
     ]
    }
   ],
   "source": [
    "\n",
    "\n",
    "if letra_elejida in palabra_adivinar:\n",
    "    print(f'!!!!Excelente!!!... Continua para descifrar la palabra.')\n",
    "    indice = palabra_adivinar.index(letra_elejida)\n",
    "    \n",
    "else:\n",
    "    print(f'La Letra {letra_elejida} no se encuentra en la Palabra')    "
   ]
  },
  {
   "cell_type": "code",
   "execution_count": 293,
   "metadata": {},
   "outputs": [
    {
     "data": {
      "text/plain": [
       "'vaharada'"
      ]
     },
     "execution_count": 293,
     "metadata": {},
     "output_type": "execute_result"
    }
   ],
   "source": [
    "palabra_adivinar"
   ]
  },
  {
   "cell_type": "code",
   "execution_count": 294,
   "metadata": {},
   "outputs": [
    {
     "name": "stdout",
     "output_type": "stream",
     "text": [
      "a\n",
      "4\n",
      "[1, 3, 5, 7]\n"
     ]
    }
   ],
   "source": [
    "numero_letra_acertada = 0\n",
    "indice_palabra_acertada = []\n",
    "letra_acertada = ''\n",
    "\n",
    "for i, e in enumerate(palabra_adivinar):\n",
    "    if e in letra_elejida:\n",
    "        letra_acertada = e\n",
    "        indice_palabra_acertada.append(i)\n",
    "        numero_letra_acertada += 1\n",
    "        \n",
    "        \n",
    "print(letra_acertada)    \n",
    "print(numero_letra_acertada)\n",
    "print(indice_palabra_acertada)"
   ]
  },
  {
   "cell_type": "code",
   "execution_count": 204,
   "metadata": {},
   "outputs": [
    {
     "data": {
      "text/plain": [
       "'a'"
      ]
     },
     "execution_count": 204,
     "metadata": {},
     "output_type": "execute_result"
    }
   ],
   "source": [
    "# Reemplazar los indices de guiones por palabras acertadas\n",
    "Cantidad_guiones_lista = list(Cantidad_guiones)\n",
    "for i in range(len(Cantidad_guiones)):\n",
    "    if i in indice_palabra_acertada:\n",
    "        Cantidad_guiones_lista[i] = letra_acertada\n",
    "Cantidad_guiones_lista = ''.join(Cantidad_guiones_lista)       \n",
    "print(Cantidad_guiones_lista)"
   ]
  },
  {
   "cell_type": "code",
   "execution_count": 2,
   "metadata": {},
   "outputs": [
    {
     "name": "stdout",
     "output_type": "stream",
     "text": [
      "=============================================================================\n",
      "\n",
      "             ******!!!Bienvenidos al Ahorcadito!!!********\n",
      "\n",
      "       --Intenta Adivinar entre mas de 86000 palabras en Español--\n",
      "=============================================================================\n",
      "\n",
      "La letra elegida es la : \"a\"\n",
      "\n",
      "!!!!Excelente!!!... Continua para descifrar la palabra.\n",
      "---a--------\n",
      "\n",
      "La letra elegida es la : \"a\"\n",
      "\n",
      "!!!!Excelente!!!... Continua para descifrar la palabra.\n",
      "---a--------\n",
      "\n",
      "La letra elegida es la : \"f\"\n",
      "\n",
      "La Letra \"f\" no se encuentra en la Palabra\n",
      "\n",
      "Ahora le quedan: \"6\" intentos para adivinar la palabra\n",
      "\n",
      "La letra elegida es la : \"a\"\n",
      "\n",
      "!!!!Excelente!!!... Continua para descifrar la palabra.\n",
      "---a--------\n",
      "\n",
      "La letra elegida es la : \"a\"\n",
      "\n",
      "!!!!Excelente!!!... Continua para descifrar la palabra.\n",
      "---a--------\n",
      "\n",
      "La letra elegida es la : \"f\"\n",
      "\n",
      "La Letra \"f\" no se encuentra en la Palabra\n",
      "\n",
      "Ahora le quedan: \"5\" intentos para adivinar la palabra\n",
      "\n",
      "La letra elegida es la : \"g\"\n",
      "\n",
      "!!!!Excelente!!!... Continua para descifrar la palabra.\n",
      "--------g---\n",
      "\n",
      "La letra elegida es la : \"g\"\n",
      "\n",
      "!!!!Excelente!!!... Continua para descifrar la palabra.\n",
      "--------g---\n",
      "\n",
      "La letra elegida es la : \"\"\n",
      "\n",
      "!!!!Excelente!!!... Continua para descifrar la palabra.\n",
      "------------\n",
      "\n",
      "La letra elegida es la : \"\"\n",
      "\n",
      "!!!!Excelente!!!... Continua para descifrar la palabra.\n",
      "------------\n",
      "\n",
      "La letra elegida es la : \"\"\n",
      "\n",
      "!!!!Excelente!!!... Continua para descifrar la palabra.\n",
      "------------\n",
      "\n",
      "La letra elegida es la : \"g\"\n",
      "\n",
      "!!!!Excelente!!!... Continua para descifrar la palabra.\n",
      "--------g---\n",
      "\n",
      "La letra elegida es la : \"h\"\n",
      "\n",
      "!!!!Excelente!!!... Continua para descifrar la palabra.\n",
      "h-----------\n",
      "\n",
      "La letra elegida es la : \"\"\n",
      "\n",
      "!!!!Excelente!!!... Continua para descifrar la palabra.\n",
      "------------\n",
      "\n",
      "La letra elegida es la : \"e\"\n",
      "\n",
      "!!!!Excelente!!!... Continua para descifrar la palabra.\n",
      "-e----------\n",
      "\n",
      "La letra elegida es la : \"e\"\n",
      "\n",
      "!!!!Excelente!!!... Continua para descifrar la palabra.\n",
      "-e----------\n",
      "\n",
      "La letra elegida es la : \"\"\n",
      "\n",
      "!!!!Excelente!!!... Continua para descifrar la palabra.\n",
      "------------\n",
      "\n",
      "La letra elegida es la : \"\"\n",
      "\n",
      "!!!!Excelente!!!... Continua para descifrar la palabra.\n",
      "------------\n",
      "\n",
      "La letra elegida es la : \"r\"\n",
      "\n",
      "La Letra \"r\" no se encuentra en la Palabra\n",
      "\n",
      "Ahora le quedan: \"4\" intentos para adivinar la palabra\n",
      "\n",
      "La letra elegida es la : \"\"\n",
      "\n",
      "!!!!Excelente!!!... Continua para descifrar la palabra.\n",
      "------------\n",
      "\n",
      "La letra elegida es la : \"\"\n",
      "\n",
      "!!!!Excelente!!!... Continua para descifrar la palabra.\n",
      "------------\n"
     ]
    }
   ],
   "source": [
    "import random\n",
    "from palabras import leer_archivo_lst\n",
    "\n",
    "# Leer palabras desde el archivo\n",
    "# extraido de la pagina https://www.tlm.unavarra.es/mod/resource/view.php?id=9652\n",
    "archivo_palabras = 'listado-general-palabras.txt'\n",
    "palabras = leer_archivo_lst(archivo_palabras)\n",
    "\n",
    "print('=============================================================================\\n')\n",
    "print('             ******!!!Bienvenidos al Ahorcadito!!!********\\n')\n",
    "print('       --Intenta Adivinar entre mas de 86000 palabras en Español--')\n",
    "print('=============================================================================')\n",
    "\n",
    "# Cantidad de intentos del jugador\n",
    "vidas = 7\n",
    "palabra_adivinar = random.choice(palabras).lower()\n",
    "Cantidad_letras = len(palabra_adivinar)\n",
    "Cantidad_guiones = '-' * Cantidad_letras\n",
    "\n",
    "while vidas > 0:\n",
    "    # Ingresa una letra por teclado\n",
    "    letra_elejida = input('Elige una letra: ').lower() \n",
    "    print(f'\\nLa letra elegida es la : \"{letra_elejida}\"\\n')\n",
    "\n",
    "    if letra_elejida in palabra_adivinar:\n",
    "        print(f'!!!!Excelente!!!... Continua para descifrar la palabra.')\n",
    "        numero_letra_acertada = 0\n",
    "        indice_palabra_acertada = []\n",
    "        letra_acertada = ''\n",
    "\n",
    "        for i, e in enumerate(palabra_adivinar):\n",
    "            if e in letra_elejida:\n",
    "                letra_acertada = e\n",
    "                indice_palabra_acertada.append(i)\n",
    "                numero_letra_acertada += 1\n",
    "\n",
    "        # Reemplazar los indices de guiones por palabras acertadas\n",
    "        Cantidad_guiones_lista = list(Cantidad_guiones)\n",
    "        for i in range(len(Cantidad_guiones)):\n",
    "            if i in indice_palabra_acertada:\n",
    "                Cantidad_guiones_lista[i] = letra_acertada\n",
    "        Cantidad_guiones_lista = ''.join(Cantidad_guiones_lista)       \n",
    "        print(Cantidad_guiones_lista)  \n",
    "        \n",
    "    else:\n",
    "        vidas -= 1\n",
    "        print(f'La Letra \"{letra_elejida}\" no se encuentra en la Palabra\\n')\n",
    "        print(f'Ahora le quedan: \"{vidas}\" intentos para adivinar la palabra')\n",
    "print('Perdiste')        "
   ]
  },
  {
   "cell_type": "code",
   "execution_count": null,
   "metadata": {},
   "outputs": [],
   "source": []
  }
 ],
 "metadata": {
  "kernelspec": {
   "display_name": "Python 3",
   "language": "python",
   "name": "python3"
  },
  "language_info": {
   "codemirror_mode": {
    "name": "ipython",
    "version": 3
   },
   "file_extension": ".py",
   "mimetype": "text/x-python",
   "name": "python",
   "nbconvert_exporter": "python",
   "pygments_lexer": "ipython3",
   "version": "3.11.6"
  }
 },
 "nbformat": 4,
 "nbformat_minor": 2
}

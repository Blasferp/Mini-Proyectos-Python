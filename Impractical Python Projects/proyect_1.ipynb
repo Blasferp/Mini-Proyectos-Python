{
 "cells": [
  {
   "cell_type": "markdown",
   "metadata": {},
   "source": [
    "***\n",
    "***"
   ]
  },
  {
   "cell_type": "markdown",
   "metadata": {},
   "source": [
    "## - Project #1: \n",
    "### Generating Pseudonyms"
   ]
  },
  {
   "cell_type": "markdown",
   "metadata": {},
   "source": [
    "***the objective:***\n",
    "\n",
    "- Randomly generate funny sidekick names using Python code that conforms to established\n",
    "style guidelines."
   ]
  },
  {
   "cell_type": "markdown",
   "metadata": {},
   "source": [
    "- Load a list of first names.\n",
    "- Load a list of surnames.\n",
    "- Choose a first name at random\n",
    "- Assign the name to a variable\n",
    "- Choose a surname at random\n",
    "- Assign the name to a variable\n",
    "- Print the names to the screen in order and in red font\n",
    "- Ask the user to quit or play again\n",
    "- If user plays again:\n",
    "  repeat\n",
    "- If user quits:\n",
    " end and exit"
   ]
  },
  {
   "cell_type": "code",
   "execution_count": 7,
   "metadata": {},
   "outputs": [],
   "source": [
    "import sys\n",
    "import random"
   ]
  },
  {
   "cell_type": "code",
   "execution_count": 8,
   "metadata": {},
   "outputs": [
    {
     "name": "stdout",
     "output_type": "stream",
     "text": [
      "Welcome to the Psych 'Sidekick Name Picker.'\n",
      "\n",
      "A name just like Sean would pick for Gus:\n",
      "\n",
      "\n"
     ]
    }
   ],
   "source": [
    "print(\"Welcome to the Psych 'Sidekick Name Picker.'\\n\")\n",
    "print(\"A name just like Sean would pick for Gus:\\n\\n\")"
   ]
  },
  {
   "cell_type": "code",
   "execution_count": 17,
   "metadata": {},
   "outputs": [
    {
     "name": "stderr",
     "output_type": "stream",
     "text": [
      "Error: No se proporcionaron datos.\n"
     ]
    }
   ],
   "source": [
    "import sys\n",
    "\n",
    "def procesar_datos(datos):\n",
    "    if not datos:\n",
    "        print(\"Error: No se proporcionaron datos.\", file=sys.stderr)\n",
    "        return\n",
    "    # Procesamiento de datos\n",
    "    print(\"Datos procesados correctamente.\")\n",
    "\n",
    "# Llamada a la función con datos vacíos para mostrar el uso de sys.stderr\n",
    "procesar_datos([])\n"
   ]
  },
  {
   "cell_type": "markdown",
   "metadata": {},
   "source": [
    "***"
   ]
  },
  {
   "cell_type": "markdown",
   "metadata": {},
   "source": [
    "## Practice Projects:"
   ]
  },
  {
   "cell_type": "markdown",
   "metadata": {},
   "source": [
    "### ***Pig Latin***\n",
    "To form Pig Latin, you take an English word that begins with a consonant,\n",
    "move that consonant to the end, and then add “ay” to the end of the word.\n",
    "If the word begins with a vowel, you simply add “way” to the end of the\n",
    "word. One of the most famous Pig Latin phrases of all time is “ixnay on the\n",
    "ottenray,” uttered by Marty Feldman in Mel Brooks’s comedic masterpiece\n",
    "Young Frankenstein.\n",
    "Write a program that takes a word as input and uses indexing and\n",
    "slicing to return its Pig Latin equivalent. Run Pylint and pydocstyle on\n",
    "your code and correct any style mistakes. You can find a solution in the\n",
    "appendix or download pig_latin_practice.py from https://www.nostarch.com/\n",
    "impracticalpython/.\n",
    "\n",
    "\n",
    "Para formar el pig latin, se toma una palabra inglesa que comienza con una consonante,\n",
    "se mueve esa consonante al final y luego se agrega “ay” al final de la palabra.\n",
    "Si la palabra comienza con una vocal, simplemente se agrega “way” al final de la\n",
    "palabra. Una de las frases en pig latin más famosas de todos los tiempos es “ixnay on the\n",
    "ottenray”, pronunciada por Marty Feldman en la obra maestra cómica de Mel Brooks\n",
    "El joven Frankenstein.\n",
    "\n",
    "\n",
    "Escriba un programa que tome una palabra como entrada y utilice indexación y\n",
    "slicing para devolver su equivalente en Pig Latin. Ejecute Pylint y pydocstyle en\n",
    "su código y corrija cualquier error de estilo. Puede encontrar una solución en el\n",
    "apéndice o descargar pig_latin_practice.py desde https://www.nostarch.com/\n",
    "impracticalpython/."
   ]
  },
  {
   "cell_type": "markdown",
   "metadata": {},
   "source": [
    "- input palabra consonante o vocal.\n",
    "- si es consonante agregar la 1 letra al final y agregar ay.\n",
    "-si es vocal solamente ay.\n",
    "- usar indexacion, slicing"
   ]
  },
  {
   "cell_type": "code",
   "execution_count": 19,
   "metadata": {},
   "outputs": [],
   "source": [
    "palabra = 'constantine'\n",
    "vocales = ['a', 'e', 'i', 'o', 'u' ]\n",
    "if palabra[0] in vocales:\n",
    "    palabra += 'way'\n",
    "else\n",
    "    palabra = palabra[1:] + palabra[:1] + 'ay'   "
   ]
  },
  {
   "cell_type": "code",
   "execution_count": 27,
   "metadata": {},
   "outputs": [
    {
     "name": "stdout",
     "output_type": "stream",
     "text": [
      "algoay\n"
     ]
    }
   ],
   "source": [
    "palabra = 'algo'\n",
    "print(f'{palabra + \"ay\"}')\n"
   ]
  },
  {
   "cell_type": "code",
   "execution_count": 34,
   "metadata": {},
   "outputs": [],
   "source": [
    "\"\"\"Genera palabras en jeringoso, pero en ingles(Pig Latin)\"\"\"\n",
    "def main():\n",
    "    \"\"\"\n",
    "    Modifica las palabras, si comienzan con vocal agregan 'way',\n",
    "    si comienzan em consonante, envia la primera letra al final y\n",
    "    agrega las letras 'ay'\n",
    "    \"\"\"\n",
    "    print('Bienvenido a Pig Latin')\n",
    "    \n",
    "    # Definimos una variable con las vocales.\n",
    "    vocales = ['a', 'e', 'i', 'o', 'u' ]\n",
    "    \n",
    "    while True:\n",
    "        try:\n",
    "            # Se crea variable ingresada por el usuario en minuscula.\n",
    "            palabra = input('Elije una palabra para transformar en jeringoso').lower()\n",
    "            \n",
    "            \n",
    "             # Verificar si la entrada está vacía\n",
    "            if not palabra:\n",
    "                raise ValueError(\"La entrada no puede estar vacía.\")\n",
    "            \n",
    "            # Verificar si todos los caracteres en la entrada son letras\n",
    "            if not palabra.isalpha():\n",
    "                raise ValueError(\"La entrada debe contener solo letras.\")\n",
    "            \n",
    "            break\n",
    "        \n",
    "        except ValueError as e:\n",
    "            print(f\"Error: {e}. Inténtalo de nuevo.\")\n",
    "\n",
    "    if palabra[0] in vocales:\n",
    "        palabra_jeringoso = palabra + 'way'\n",
    "        return (f'La palabra {palabra} en jeringoso es : {palabra_jeringoso}')\n",
    "    else:\n",
    "        palabra_jeringoso = palabra[1:] + palabra[:1] + 'ay' \n",
    "        return (f'La palabra {palabra} en jeringoso es : {palabra_jeringoso}')\n",
    "    \n",
    "if __name__ == 'main':\n",
    "    main()\n",
    "    "
   ]
  },
  {
   "cell_type": "code",
   "execution_count": 35,
   "metadata": {},
   "outputs": [
    {
     "name": "stdout",
     "output_type": "stream",
     "text": [
      "Bienvenido a Pig Latin\n"
     ]
    },
    {
     "data": {
      "text/plain": [
       "'La palabra hola en jeringoso es : olahay'"
      ]
     },
     "execution_count": 35,
     "metadata": {},
     "output_type": "execute_result"
    }
   ],
   "source": [
    "main()"
   ]
  },
  {
   "cell_type": "markdown",
   "metadata": {},
   "source": [
    "### ***Poor Man’s Bar Chart***\n",
    "The six most commonly used letters in the English language can be remembered with the mnemonic “etaoin” (pronounced eh-tay-oh-in). Write a Python\n",
    "script that takes a sentence (string) as input and returns a simple bar chart–\n",
    "type display as in Figure 1-2. Hint: I used a dictionary data structure and two\n",
    "modules that I haven’t covered yet, pprint and collections/defaultdict."
   ]
  },
  {
   "cell_type": "code",
   "execution_count": null,
   "metadata": {},
   "outputs": [],
   "source": []
  },
  {
   "cell_type": "code",
   "execution_count": null,
   "metadata": {},
   "outputs": [],
   "source": []
  }
 ],
 "metadata": {
  "kernelspec": {
   "display_name": "Python 3",
   "language": "python",
   "name": "python3"
  },
  "language_info": {
   "codemirror_mode": {
    "name": "ipython",
    "version": 3
   },
   "file_extension": ".py",
   "mimetype": "text/x-python",
   "name": "python",
   "nbconvert_exporter": "python",
   "pygments_lexer": "ipython3",
   "version": "3.11.6"
  }
 },
 "nbformat": 4,
 "nbformat_minor": 2
}

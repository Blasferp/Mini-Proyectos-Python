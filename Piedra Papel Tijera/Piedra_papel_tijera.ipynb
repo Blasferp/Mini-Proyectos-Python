{
 "cells": [
  {
   "cell_type": "code",
   "execution_count": 80,
   "metadata": {},
   "outputs": [
    {
     "name": "stdout",
     "output_type": "stream",
     "text": [
      "Tu elección: Piedra\n",
      "PC elección: Piedra\n",
      "Hay un empate de Piedra, Sigue Intentando\n",
      "El marcador continua Pc: 0 vs Usuario: 0\n",
      "Marcador actual: Pc: 0 vs Usuario: 0\n"
     ]
    },
    {
     "ename": "KeyboardInterrupt",
     "evalue": "",
     "output_type": "error",
     "traceback": [
      "\u001b[1;31m---------------------------------------------------------------------------\u001b[0m",
      "\u001b[1;31mKeyboardInterrupt\u001b[0m                         Traceback (most recent call last)",
      "Cell \u001b[1;32mIn[80], line 64\u001b[0m\n\u001b[0;32m     61\u001b[0m             \u001b[38;5;28;01mbreak\u001b[39;00m\n\u001b[0;32m     63\u001b[0m \u001b[38;5;28;01mif\u001b[39;00m \u001b[38;5;18m__name__\u001b[39m \u001b[38;5;241m==\u001b[39m \u001b[38;5;124m'\u001b[39m\u001b[38;5;124m__main__\u001b[39m\u001b[38;5;124m'\u001b[39m:\n\u001b[1;32m---> 64\u001b[0m     \u001b[43mpiedra_papel_tijera\u001b[49m\u001b[43m(\u001b[49m\u001b[43m)\u001b[49m\n",
      "Cell \u001b[1;32mIn[80], line 55\u001b[0m, in \u001b[0;36mpiedra_papel_tijera\u001b[1;34m()\u001b[0m\n\u001b[0;32m     51\u001b[0m \u001b[38;5;66;03m# Mostrar marcador actualizado\u001b[39;00m\n\u001b[0;32m     52\u001b[0m \u001b[38;5;28mprint\u001b[39m(\u001b[38;5;124mf\u001b[39m\u001b[38;5;124m'\u001b[39m\u001b[38;5;124mMarcador actual: Pc: \u001b[39m\u001b[38;5;132;01m{\u001b[39;00mpuntaje_pc\u001b[38;5;132;01m}\u001b[39;00m\u001b[38;5;124m vs Usuario: \u001b[39m\u001b[38;5;132;01m{\u001b[39;00mpuntaje_usuario\u001b[38;5;132;01m}\u001b[39;00m\u001b[38;5;124m'\u001b[39m)\n\u001b[1;32m---> 55\u001b[0m \u001b[38;5;28;01mwhile\u001b[39;00m \u001b[38;5;28;01mTrue\u001b[39;00m:\n\u001b[0;32m     56\u001b[0m     \u001b[38;5;28;01mif\u001b[39;00m puntaje_pc \u001b[38;5;241m==\u001b[39m \u001b[38;5;241m3\u001b[39m:\n\u001b[0;32m     57\u001b[0m         \u001b[38;5;28mprint\u001b[39m(\u001b[38;5;124m'\u001b[39m\u001b[38;5;124mPerdiste el Partido... Pc alcanzo los 3 puntos\u001b[39m\u001b[38;5;124m'\u001b[39m)\n",
      "\u001b[1;31mKeyboardInterrupt\u001b[0m: "
     ]
    }
   ],
   "source": [
    "import random\n",
    "\n",
    "\n",
    "def piedra_papel_tijera():\n",
    "    opciones = { 1 : 'Piedra',\n",
    "                    2 : 'Papel',\n",
    "                    3 : 'Tijera'    \n",
    "        }\n",
    "\n",
    "    puntaje_usuario = 0\n",
    "    puntaje_pc = 0\n",
    "\n",
    "    # Eleccion aleatoria de los valores, luego de crearlos en una lista\n",
    "    eleccion_pc = random.choice(list(opciones.values()))\n",
    "\n",
    "    while True:\n",
    "        eleccion_usuario = input('1- Piedra\\n2- Papel\\n3- Tijera\\n¿Cuál es tu elección para jugar? (1, 2, 3): ')\n",
    "\n",
    "        # Validar que la entrada sea un número\n",
    "        if not eleccion_usuario.isdigit():\n",
    "            print('Debe ingresar un número.')\n",
    "            continue\n",
    "        \n",
    "        # Convertir la entrada a un entero\n",
    "        eleccion_usuario = int(eleccion_usuario)\n",
    "        \n",
    "        # Verificar que el número esté dentro del rango permitido\n",
    "        if eleccion_usuario < 1 or eleccion_usuario > 3:\n",
    "            print('Número fuera de las opciones. Debe ser 1, 2 o 3.')\n",
    "            continue\n",
    "\n",
    "        break\n",
    "\n",
    "    print(f'Tu elección: {opciones[eleccion_usuario]}')\n",
    "    print(f'PC elección: {eleccion_pc}')\n",
    "\n",
    "    # Eleccion del usuario en str\n",
    "    opcion_usuario = opciones[eleccion_usuario]\n",
    "\n",
    "    if eleccion_pc == opcion_usuario:\n",
    "        print(f'Hay un empate de {eleccion_pc}, Sigue Intentando')\n",
    "        print(f'El marcador continua Pc: {puntaje_pc} vs Usuario: {puntaje_usuario}')\n",
    "        \n",
    "    elif (eleccion_pc == 'Tijera' and opcion_usuario == 'Papel') or (eleccion_pc == 'Papel' and opcion_usuario == 'Piedra') or (eleccion_pc == 'Piedra' and opcion_usuario == 'Tijera'):\n",
    "        print('Gana Pc')\n",
    "        puntaje_pc += 1  # Aumenta el puntaje de la PC\n",
    "    else:\n",
    "        print('Gana Usuario')\n",
    "        puntaje_usuario += 1  # Aumenta el puntaje del usuario\n",
    "\n",
    "    # Mostrar marcador actualizado\n",
    "    print(f'Marcador actual: Pc: {puntaje_pc} vs Usuario: {puntaje_usuario}')\n",
    "\n",
    "\n",
    "    while True:\n",
    "        if puntaje_pc == 3:\n",
    "            print('Perdiste el Partido... Pc alcanzo los 3 puntos')\n",
    "            break\n",
    "        elif puntaje_usuario == 3:\n",
    "            print('Perdiste el Partido... Pc alcanzo los 3 puntos')\n",
    "            break\n",
    "        \n",
    "if __name__ == '__main__':\n",
    "    piedra_papel_tijera()\n"
   ]
  },
  {
   "cell_type": "code",
   "execution_count": null,
   "metadata": {},
   "outputs": [],
   "source": []
  },
  {
   "cell_type": "code",
   "execution_count": 58,
   "metadata": {},
   "outputs": [],
   "source": []
  },
  {
   "cell_type": "code",
   "execution_count": 59,
   "metadata": {},
   "outputs": [
    {
     "data": {
      "text/plain": [
       "dict_values(['Piedra', 'Papel', 'Tijera'])"
      ]
     },
     "execution_count": 59,
     "metadata": {},
     "output_type": "execute_result"
    }
   ],
   "source": [
    "opciones.values()"
   ]
  },
  {
   "cell_type": "code",
   "execution_count": 63,
   "metadata": {},
   "outputs": [
    {
     "data": {
      "text/plain": [
       "'Tijera'"
      ]
     },
     "execution_count": 63,
     "metadata": {},
     "output_type": "execute_result"
    }
   ],
   "source": []
  },
  {
   "cell_type": "code",
   "execution_count": 74,
   "metadata": {},
   "outputs": [
    {
     "name": "stdout",
     "output_type": "stream",
     "text": [
      "Tu elección: Piedra\n",
      "Gana Usuario\n"
     ]
    },
    {
     "ename": "NameError",
     "evalue": "name 'puntaje_usuario' is not defined",
     "output_type": "error",
     "traceback": [
      "\u001b[1;31m---------------------------------------------------------------------------\u001b[0m",
      "\u001b[1;31mNameError\u001b[0m                                 Traceback (most recent call last)",
      "Cell \u001b[1;32mIn[74], line 33\u001b[0m\n\u001b[0;32m     31\u001b[0m \u001b[38;5;28;01melse\u001b[39;00m:\n\u001b[0;32m     32\u001b[0m     \u001b[38;5;28mprint\u001b[39m(\u001b[38;5;124m'\u001b[39m\u001b[38;5;124mGana Usuario\u001b[39m\u001b[38;5;124m'\u001b[39m)\n\u001b[1;32m---> 33\u001b[0m     \u001b[43mpuntaje_usuario\u001b[49m \u001b[38;5;241m+\u001b[39m\u001b[38;5;241m=\u001b[39m \u001b[38;5;241m1\u001b[39m  \u001b[38;5;66;03m# Aumenta el puntaje del usuario\u001b[39;00m\n\u001b[0;32m     35\u001b[0m \u001b[38;5;66;03m# Mostrar marcador actualizado\u001b[39;00m\n\u001b[0;32m     36\u001b[0m \u001b[38;5;28mprint\u001b[39m(\u001b[38;5;124mf\u001b[39m\u001b[38;5;124m'\u001b[39m\u001b[38;5;124mMarcador actual: Pc: \u001b[39m\u001b[38;5;132;01m{\u001b[39;00mpuntaje_pc\u001b[38;5;132;01m}\u001b[39;00m\u001b[38;5;124m vs Usuario: \u001b[39m\u001b[38;5;132;01m{\u001b[39;00mpuntaje_usuario\u001b[38;5;132;01m}\u001b[39;00m\u001b[38;5;124m'\u001b[39m)\n",
      "\u001b[1;31mNameError\u001b[0m: name 'puntaje_usuario' is not defined"
     ]
    }
   ],
   "source": []
  },
  {
   "cell_type": "code",
   "execution_count": 67,
   "metadata": {},
   "outputs": [
    {
     "data": {
      "text/plain": [
       "str"
      ]
     },
     "execution_count": 67,
     "metadata": {},
     "output_type": "execute_result"
    }
   ],
   "source": []
  },
  {
   "cell_type": "code",
   "execution_count": null,
   "metadata": {},
   "outputs": [],
   "source": [
    "if eleccion_pc == opcion_usuario:\n",
    "    print(f'Hay un empate de {eleccion_pc}, Sigue Intentando')\n",
    "    print(f'El marcador continua Pc: {puntaje_pc} vs Usuario: {puntaje_usuario}')\n",
    "    continue"
   ]
  }
 ],
 "metadata": {
  "kernelspec": {
   "display_name": "Python 3",
   "language": "python",
   "name": "python3"
  },
  "language_info": {
   "codemirror_mode": {
    "name": "ipython",
    "version": 3
   },
   "file_extension": ".py",
   "mimetype": "text/x-python",
   "name": "python",
   "nbconvert_exporter": "python",
   "pygments_lexer": "ipython3",
   "version": "3.11.6"
  }
 },
 "nbformat": 4,
 "nbformat_minor": 2
}
